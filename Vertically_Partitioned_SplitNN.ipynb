{
  "nbformat": 4,
  "nbformat_minor": 0,
  "metadata": {
    "colab": {
      "name": "Vertically_Partitioned_SplitNN.ipynb",
      "provenance": [],
      "toc_visible": true,
      "mount_file_id": "1gMgLFKkshQ7Hmigh1otIJemr4Drm4mn2",
      "authorship_tag": "ABX9TyPISFQVML+AFQrF76DVqllJ"
    },
    "kernelspec": {
      "name": "python3",
      "display_name": "Python 3"
    },
    "accelerator": "GPU",
    "widgets": {
      "application/vnd.jupyter.widget-state+json": {
        "319b0ac3bebe49318efb053165f78ecf": {
          "model_module": "@jupyter-widgets/controls",
          "model_name": "HBoxModel",
          "state": {
            "_view_name": "HBoxView",
            "_dom_classes": [],
            "_model_name": "HBoxModel",
            "_view_module": "@jupyter-widgets/controls",
            "_model_module_version": "1.5.0",
            "_view_count": null,
            "_view_module_version": "1.5.0",
            "box_style": "",
            "layout": "IPY_MODEL_a105580f4f57421cb0b6aa42e986f6dd",
            "_model_module": "@jupyter-widgets/controls",
            "children": [
              "IPY_MODEL_d19328456aa74aedac01ce06aa186f87",
              "IPY_MODEL_a9448eb3995c4e0f89d4a5efeffb3a24"
            ]
          }
        },
        "a105580f4f57421cb0b6aa42e986f6dd": {
          "model_module": "@jupyter-widgets/base",
          "model_name": "LayoutModel",
          "state": {
            "_view_name": "LayoutView",
            "grid_template_rows": null,
            "right": null,
            "justify_content": null,
            "_view_module": "@jupyter-widgets/base",
            "overflow": null,
            "_model_module_version": "1.2.0",
            "_view_count": null,
            "flex_flow": null,
            "width": null,
            "min_width": null,
            "border": null,
            "align_items": null,
            "bottom": null,
            "_model_module": "@jupyter-widgets/base",
            "top": null,
            "grid_column": null,
            "overflow_y": null,
            "overflow_x": null,
            "grid_auto_flow": null,
            "grid_area": null,
            "grid_template_columns": null,
            "flex": null,
            "_model_name": "LayoutModel",
            "justify_items": null,
            "grid_row": null,
            "max_height": null,
            "align_content": null,
            "visibility": null,
            "align_self": null,
            "height": null,
            "min_height": null,
            "padding": null,
            "grid_auto_rows": null,
            "grid_gap": null,
            "max_width": null,
            "order": null,
            "_view_module_version": "1.2.0",
            "grid_template_areas": null,
            "object_position": null,
            "object_fit": null,
            "grid_auto_columns": null,
            "margin": null,
            "display": null,
            "left": null
          }
        },
        "d19328456aa74aedac01ce06aa186f87": {
          "model_module": "@jupyter-widgets/controls",
          "model_name": "IntProgressModel",
          "state": {
            "_view_name": "ProgressView",
            "style": "IPY_MODEL_67775ea1ae8d4ab3bcba118923ad482c",
            "_dom_classes": [],
            "description": "",
            "_model_name": "IntProgressModel",
            "bar_style": "success",
            "max": 1,
            "_view_module": "@jupyter-widgets/controls",
            "_model_module_version": "1.5.0",
            "value": 1,
            "_view_count": null,
            "_view_module_version": "1.5.0",
            "orientation": "horizontal",
            "min": 0,
            "description_tooltip": null,
            "_model_module": "@jupyter-widgets/controls",
            "layout": "IPY_MODEL_1d0db9c7e195468b9e28ba00f101a692"
          }
        },
        "a9448eb3995c4e0f89d4a5efeffb3a24": {
          "model_module": "@jupyter-widgets/controls",
          "model_name": "HTMLModel",
          "state": {
            "_view_name": "HTMLView",
            "style": "IPY_MODEL_669ad6e75fb4403cab9b08b2207d861e",
            "_dom_classes": [],
            "description": "",
            "_model_name": "HTMLModel",
            "placeholder": "​",
            "_view_module": "@jupyter-widgets/controls",
            "_model_module_version": "1.5.0",
            "value": "9920512it [00:02, 3331634.79it/s]",
            "_view_count": null,
            "_view_module_version": "1.5.0",
            "description_tooltip": null,
            "_model_module": "@jupyter-widgets/controls",
            "layout": "IPY_MODEL_3cb5ba1517ca4ba694a2f76df2a5f535"
          }
        },
        "67775ea1ae8d4ab3bcba118923ad482c": {
          "model_module": "@jupyter-widgets/controls",
          "model_name": "ProgressStyleModel",
          "state": {
            "_view_name": "StyleView",
            "_model_name": "ProgressStyleModel",
            "description_width": "",
            "_view_module": "@jupyter-widgets/base",
            "_model_module_version": "1.5.0",
            "_view_count": null,
            "_view_module_version": "1.2.0",
            "bar_color": null,
            "_model_module": "@jupyter-widgets/controls"
          }
        },
        "1d0db9c7e195468b9e28ba00f101a692": {
          "model_module": "@jupyter-widgets/base",
          "model_name": "LayoutModel",
          "state": {
            "_view_name": "LayoutView",
            "grid_template_rows": null,
            "right": null,
            "justify_content": null,
            "_view_module": "@jupyter-widgets/base",
            "overflow": null,
            "_model_module_version": "1.2.0",
            "_view_count": null,
            "flex_flow": null,
            "width": null,
            "min_width": null,
            "border": null,
            "align_items": null,
            "bottom": null,
            "_model_module": "@jupyter-widgets/base",
            "top": null,
            "grid_column": null,
            "overflow_y": null,
            "overflow_x": null,
            "grid_auto_flow": null,
            "grid_area": null,
            "grid_template_columns": null,
            "flex": null,
            "_model_name": "LayoutModel",
            "justify_items": null,
            "grid_row": null,
            "max_height": null,
            "align_content": null,
            "visibility": null,
            "align_self": null,
            "height": null,
            "min_height": null,
            "padding": null,
            "grid_auto_rows": null,
            "grid_gap": null,
            "max_width": null,
            "order": null,
            "_view_module_version": "1.2.0",
            "grid_template_areas": null,
            "object_position": null,
            "object_fit": null,
            "grid_auto_columns": null,
            "margin": null,
            "display": null,
            "left": null
          }
        },
        "669ad6e75fb4403cab9b08b2207d861e": {
          "model_module": "@jupyter-widgets/controls",
          "model_name": "DescriptionStyleModel",
          "state": {
            "_view_name": "StyleView",
            "_model_name": "DescriptionStyleModel",
            "description_width": "",
            "_view_module": "@jupyter-widgets/base",
            "_model_module_version": "1.5.0",
            "_view_count": null,
            "_view_module_version": "1.2.0",
            "_model_module": "@jupyter-widgets/controls"
          }
        },
        "3cb5ba1517ca4ba694a2f76df2a5f535": {
          "model_module": "@jupyter-widgets/base",
          "model_name": "LayoutModel",
          "state": {
            "_view_name": "LayoutView",
            "grid_template_rows": null,
            "right": null,
            "justify_content": null,
            "_view_module": "@jupyter-widgets/base",
            "overflow": null,
            "_model_module_version": "1.2.0",
            "_view_count": null,
            "flex_flow": null,
            "width": null,
            "min_width": null,
            "border": null,
            "align_items": null,
            "bottom": null,
            "_model_module": "@jupyter-widgets/base",
            "top": null,
            "grid_column": null,
            "overflow_y": null,
            "overflow_x": null,
            "grid_auto_flow": null,
            "grid_area": null,
            "grid_template_columns": null,
            "flex": null,
            "_model_name": "LayoutModel",
            "justify_items": null,
            "grid_row": null,
            "max_height": null,
            "align_content": null,
            "visibility": null,
            "align_self": null,
            "height": null,
            "min_height": null,
            "padding": null,
            "grid_auto_rows": null,
            "grid_gap": null,
            "max_width": null,
            "order": null,
            "_view_module_version": "1.2.0",
            "grid_template_areas": null,
            "object_position": null,
            "object_fit": null,
            "grid_auto_columns": null,
            "margin": null,
            "display": null,
            "left": null
          }
        },
        "b711ae2f28c2462facff84473bb24af0": {
          "model_module": "@jupyter-widgets/controls",
          "model_name": "HBoxModel",
          "state": {
            "_view_name": "HBoxView",
            "_dom_classes": [],
            "_model_name": "HBoxModel",
            "_view_module": "@jupyter-widgets/controls",
            "_model_module_version": "1.5.0",
            "_view_count": null,
            "_view_module_version": "1.5.0",
            "box_style": "",
            "layout": "IPY_MODEL_1433d634c0754a50a9f6e2cb32a6701e",
            "_model_module": "@jupyter-widgets/controls",
            "children": [
              "IPY_MODEL_2323eaa039144d8781bea94460330509",
              "IPY_MODEL_11a5cead27fe419b8886855d0d8eda51"
            ]
          }
        },
        "1433d634c0754a50a9f6e2cb32a6701e": {
          "model_module": "@jupyter-widgets/base",
          "model_name": "LayoutModel",
          "state": {
            "_view_name": "LayoutView",
            "grid_template_rows": null,
            "right": null,
            "justify_content": null,
            "_view_module": "@jupyter-widgets/base",
            "overflow": null,
            "_model_module_version": "1.2.0",
            "_view_count": null,
            "flex_flow": null,
            "width": null,
            "min_width": null,
            "border": null,
            "align_items": null,
            "bottom": null,
            "_model_module": "@jupyter-widgets/base",
            "top": null,
            "grid_column": null,
            "overflow_y": null,
            "overflow_x": null,
            "grid_auto_flow": null,
            "grid_area": null,
            "grid_template_columns": null,
            "flex": null,
            "_model_name": "LayoutModel",
            "justify_items": null,
            "grid_row": null,
            "max_height": null,
            "align_content": null,
            "visibility": null,
            "align_self": null,
            "height": null,
            "min_height": null,
            "padding": null,
            "grid_auto_rows": null,
            "grid_gap": null,
            "max_width": null,
            "order": null,
            "_view_module_version": "1.2.0",
            "grid_template_areas": null,
            "object_position": null,
            "object_fit": null,
            "grid_auto_columns": null,
            "margin": null,
            "display": null,
            "left": null
          }
        },
        "2323eaa039144d8781bea94460330509": {
          "model_module": "@jupyter-widgets/controls",
          "model_name": "IntProgressModel",
          "state": {
            "_view_name": "ProgressView",
            "style": "IPY_MODEL_44a266650de6406e8bc37b5243095c9d",
            "_dom_classes": [],
            "description": "",
            "_model_name": "IntProgressModel",
            "bar_style": "success",
            "max": 1,
            "_view_module": "@jupyter-widgets/controls",
            "_model_module_version": "1.5.0",
            "value": 1,
            "_view_count": null,
            "_view_module_version": "1.5.0",
            "orientation": "horizontal",
            "min": 0,
            "description_tooltip": null,
            "_model_module": "@jupyter-widgets/controls",
            "layout": "IPY_MODEL_5c7f519c88504f5da33b1defe3bd0f08"
          }
        },
        "11a5cead27fe419b8886855d0d8eda51": {
          "model_module": "@jupyter-widgets/controls",
          "model_name": "HTMLModel",
          "state": {
            "_view_name": "HTMLView",
            "style": "IPY_MODEL_25d25b4e00fc4543953044d9236c8b33",
            "_dom_classes": [],
            "description": "",
            "_model_name": "HTMLModel",
            "placeholder": "​",
            "_view_module": "@jupyter-widgets/controls",
            "_model_module_version": "1.5.0",
            "value": "32768it [00:00, 47464.59it/s]",
            "_view_count": null,
            "_view_module_version": "1.5.0",
            "description_tooltip": null,
            "_model_module": "@jupyter-widgets/controls",
            "layout": "IPY_MODEL_bf1810ae5ffc4eb0837ca332e86a1767"
          }
        },
        "44a266650de6406e8bc37b5243095c9d": {
          "model_module": "@jupyter-widgets/controls",
          "model_name": "ProgressStyleModel",
          "state": {
            "_view_name": "StyleView",
            "_model_name": "ProgressStyleModel",
            "description_width": "",
            "_view_module": "@jupyter-widgets/base",
            "_model_module_version": "1.5.0",
            "_view_count": null,
            "_view_module_version": "1.2.0",
            "bar_color": null,
            "_model_module": "@jupyter-widgets/controls"
          }
        },
        "5c7f519c88504f5da33b1defe3bd0f08": {
          "model_module": "@jupyter-widgets/base",
          "model_name": "LayoutModel",
          "state": {
            "_view_name": "LayoutView",
            "grid_template_rows": null,
            "right": null,
            "justify_content": null,
            "_view_module": "@jupyter-widgets/base",
            "overflow": null,
            "_model_module_version": "1.2.0",
            "_view_count": null,
            "flex_flow": null,
            "width": null,
            "min_width": null,
            "border": null,
            "align_items": null,
            "bottom": null,
            "_model_module": "@jupyter-widgets/base",
            "top": null,
            "grid_column": null,
            "overflow_y": null,
            "overflow_x": null,
            "grid_auto_flow": null,
            "grid_area": null,
            "grid_template_columns": null,
            "flex": null,
            "_model_name": "LayoutModel",
            "justify_items": null,
            "grid_row": null,
            "max_height": null,
            "align_content": null,
            "visibility": null,
            "align_self": null,
            "height": null,
            "min_height": null,
            "padding": null,
            "grid_auto_rows": null,
            "grid_gap": null,
            "max_width": null,
            "order": null,
            "_view_module_version": "1.2.0",
            "grid_template_areas": null,
            "object_position": null,
            "object_fit": null,
            "grid_auto_columns": null,
            "margin": null,
            "display": null,
            "left": null
          }
        },
        "25d25b4e00fc4543953044d9236c8b33": {
          "model_module": "@jupyter-widgets/controls",
          "model_name": "DescriptionStyleModel",
          "state": {
            "_view_name": "StyleView",
            "_model_name": "DescriptionStyleModel",
            "description_width": "",
            "_view_module": "@jupyter-widgets/base",
            "_model_module_version": "1.5.0",
            "_view_count": null,
            "_view_module_version": "1.2.0",
            "_model_module": "@jupyter-widgets/controls"
          }
        },
        "bf1810ae5ffc4eb0837ca332e86a1767": {
          "model_module": "@jupyter-widgets/base",
          "model_name": "LayoutModel",
          "state": {
            "_view_name": "LayoutView",
            "grid_template_rows": null,
            "right": null,
            "justify_content": null,
            "_view_module": "@jupyter-widgets/base",
            "overflow": null,
            "_model_module_version": "1.2.0",
            "_view_count": null,
            "flex_flow": null,
            "width": null,
            "min_width": null,
            "border": null,
            "align_items": null,
            "bottom": null,
            "_model_module": "@jupyter-widgets/base",
            "top": null,
            "grid_column": null,
            "overflow_y": null,
            "overflow_x": null,
            "grid_auto_flow": null,
            "grid_area": null,
            "grid_template_columns": null,
            "flex": null,
            "_model_name": "LayoutModel",
            "justify_items": null,
            "grid_row": null,
            "max_height": null,
            "align_content": null,
            "visibility": null,
            "align_self": null,
            "height": null,
            "min_height": null,
            "padding": null,
            "grid_auto_rows": null,
            "grid_gap": null,
            "max_width": null,
            "order": null,
            "_view_module_version": "1.2.0",
            "grid_template_areas": null,
            "object_position": null,
            "object_fit": null,
            "grid_auto_columns": null,
            "margin": null,
            "display": null,
            "left": null
          }
        },
        "5e0ebc85d5e348388caf49e6386cf6d8": {
          "model_module": "@jupyter-widgets/controls",
          "model_name": "HBoxModel",
          "state": {
            "_view_name": "HBoxView",
            "_dom_classes": [],
            "_model_name": "HBoxModel",
            "_view_module": "@jupyter-widgets/controls",
            "_model_module_version": "1.5.0",
            "_view_count": null,
            "_view_module_version": "1.5.0",
            "box_style": "",
            "layout": "IPY_MODEL_454e60e004c24d048f17705e45f156e8",
            "_model_module": "@jupyter-widgets/controls",
            "children": [
              "IPY_MODEL_5d3855bcdc81420cba34ccf35eac3803",
              "IPY_MODEL_6360d2e4ad9047fe938a39787f60bf35"
            ]
          }
        },
        "454e60e004c24d048f17705e45f156e8": {
          "model_module": "@jupyter-widgets/base",
          "model_name": "LayoutModel",
          "state": {
            "_view_name": "LayoutView",
            "grid_template_rows": null,
            "right": null,
            "justify_content": null,
            "_view_module": "@jupyter-widgets/base",
            "overflow": null,
            "_model_module_version": "1.2.0",
            "_view_count": null,
            "flex_flow": null,
            "width": null,
            "min_width": null,
            "border": null,
            "align_items": null,
            "bottom": null,
            "_model_module": "@jupyter-widgets/base",
            "top": null,
            "grid_column": null,
            "overflow_y": null,
            "overflow_x": null,
            "grid_auto_flow": null,
            "grid_area": null,
            "grid_template_columns": null,
            "flex": null,
            "_model_name": "LayoutModel",
            "justify_items": null,
            "grid_row": null,
            "max_height": null,
            "align_content": null,
            "visibility": null,
            "align_self": null,
            "height": null,
            "min_height": null,
            "padding": null,
            "grid_auto_rows": null,
            "grid_gap": null,
            "max_width": null,
            "order": null,
            "_view_module_version": "1.2.0",
            "grid_template_areas": null,
            "object_position": null,
            "object_fit": null,
            "grid_auto_columns": null,
            "margin": null,
            "display": null,
            "left": null
          }
        },
        "5d3855bcdc81420cba34ccf35eac3803": {
          "model_module": "@jupyter-widgets/controls",
          "model_name": "IntProgressModel",
          "state": {
            "_view_name": "ProgressView",
            "style": "IPY_MODEL_75fe68ffaf5a4379a1ab6a2cd5b58537",
            "_dom_classes": [],
            "description": "",
            "_model_name": "IntProgressModel",
            "bar_style": "success",
            "max": 1,
            "_view_module": "@jupyter-widgets/controls",
            "_model_module_version": "1.5.0",
            "value": 1,
            "_view_count": null,
            "_view_module_version": "1.5.0",
            "orientation": "horizontal",
            "min": 0,
            "description_tooltip": null,
            "_model_module": "@jupyter-widgets/controls",
            "layout": "IPY_MODEL_340f6561fc1d426899fbf316aaffdf2a"
          }
        },
        "6360d2e4ad9047fe938a39787f60bf35": {
          "model_module": "@jupyter-widgets/controls",
          "model_name": "HTMLModel",
          "state": {
            "_view_name": "HTMLView",
            "style": "IPY_MODEL_b4e35532e1494a7aa49b0729937e935a",
            "_dom_classes": [],
            "description": "",
            "_model_name": "HTMLModel",
            "placeholder": "​",
            "_view_module": "@jupyter-widgets/controls",
            "_model_module_version": "1.5.0",
            "value": "1654784it [00:01, 902306.40it/s]",
            "_view_count": null,
            "_view_module_version": "1.5.0",
            "description_tooltip": null,
            "_model_module": "@jupyter-widgets/controls",
            "layout": "IPY_MODEL_b81e64d59a6c482a9841ed4ed1135327"
          }
        },
        "75fe68ffaf5a4379a1ab6a2cd5b58537": {
          "model_module": "@jupyter-widgets/controls",
          "model_name": "ProgressStyleModel",
          "state": {
            "_view_name": "StyleView",
            "_model_name": "ProgressStyleModel",
            "description_width": "",
            "_view_module": "@jupyter-widgets/base",
            "_model_module_version": "1.5.0",
            "_view_count": null,
            "_view_module_version": "1.2.0",
            "bar_color": null,
            "_model_module": "@jupyter-widgets/controls"
          }
        },
        "340f6561fc1d426899fbf316aaffdf2a": {
          "model_module": "@jupyter-widgets/base",
          "model_name": "LayoutModel",
          "state": {
            "_view_name": "LayoutView",
            "grid_template_rows": null,
            "right": null,
            "justify_content": null,
            "_view_module": "@jupyter-widgets/base",
            "overflow": null,
            "_model_module_version": "1.2.0",
            "_view_count": null,
            "flex_flow": null,
            "width": null,
            "min_width": null,
            "border": null,
            "align_items": null,
            "bottom": null,
            "_model_module": "@jupyter-widgets/base",
            "top": null,
            "grid_column": null,
            "overflow_y": null,
            "overflow_x": null,
            "grid_auto_flow": null,
            "grid_area": null,
            "grid_template_columns": null,
            "flex": null,
            "_model_name": "LayoutModel",
            "justify_items": null,
            "grid_row": null,
            "max_height": null,
            "align_content": null,
            "visibility": null,
            "align_self": null,
            "height": null,
            "min_height": null,
            "padding": null,
            "grid_auto_rows": null,
            "grid_gap": null,
            "max_width": null,
            "order": null,
            "_view_module_version": "1.2.0",
            "grid_template_areas": null,
            "object_position": null,
            "object_fit": null,
            "grid_auto_columns": null,
            "margin": null,
            "display": null,
            "left": null
          }
        },
        "b4e35532e1494a7aa49b0729937e935a": {
          "model_module": "@jupyter-widgets/controls",
          "model_name": "DescriptionStyleModel",
          "state": {
            "_view_name": "StyleView",
            "_model_name": "DescriptionStyleModel",
            "description_width": "",
            "_view_module": "@jupyter-widgets/base",
            "_model_module_version": "1.5.0",
            "_view_count": null,
            "_view_module_version": "1.2.0",
            "_model_module": "@jupyter-widgets/controls"
          }
        },
        "b81e64d59a6c482a9841ed4ed1135327": {
          "model_module": "@jupyter-widgets/base",
          "model_name": "LayoutModel",
          "state": {
            "_view_name": "LayoutView",
            "grid_template_rows": null,
            "right": null,
            "justify_content": null,
            "_view_module": "@jupyter-widgets/base",
            "overflow": null,
            "_model_module_version": "1.2.0",
            "_view_count": null,
            "flex_flow": null,
            "width": null,
            "min_width": null,
            "border": null,
            "align_items": null,
            "bottom": null,
            "_model_module": "@jupyter-widgets/base",
            "top": null,
            "grid_column": null,
            "overflow_y": null,
            "overflow_x": null,
            "grid_auto_flow": null,
            "grid_area": null,
            "grid_template_columns": null,
            "flex": null,
            "_model_name": "LayoutModel",
            "justify_items": null,
            "grid_row": null,
            "max_height": null,
            "align_content": null,
            "visibility": null,
            "align_self": null,
            "height": null,
            "min_height": null,
            "padding": null,
            "grid_auto_rows": null,
            "grid_gap": null,
            "max_width": null,
            "order": null,
            "_view_module_version": "1.2.0",
            "grid_template_areas": null,
            "object_position": null,
            "object_fit": null,
            "grid_auto_columns": null,
            "margin": null,
            "display": null,
            "left": null
          }
        },
        "e6d42b67932046b395536356d726772f": {
          "model_module": "@jupyter-widgets/controls",
          "model_name": "HBoxModel",
          "state": {
            "_view_name": "HBoxView",
            "_dom_classes": [],
            "_model_name": "HBoxModel",
            "_view_module": "@jupyter-widgets/controls",
            "_model_module_version": "1.5.0",
            "_view_count": null,
            "_view_module_version": "1.5.0",
            "box_style": "",
            "layout": "IPY_MODEL_1dc9db16e89d42578cc9eff6a234a98d",
            "_model_module": "@jupyter-widgets/controls",
            "children": [
              "IPY_MODEL_1b2268d748ab4acbb0aa4e5eb135fe16",
              "IPY_MODEL_a6ca613fd9a94982ae55d4272ad71bf4"
            ]
          }
        },
        "1dc9db16e89d42578cc9eff6a234a98d": {
          "model_module": "@jupyter-widgets/base",
          "model_name": "LayoutModel",
          "state": {
            "_view_name": "LayoutView",
            "grid_template_rows": null,
            "right": null,
            "justify_content": null,
            "_view_module": "@jupyter-widgets/base",
            "overflow": null,
            "_model_module_version": "1.2.0",
            "_view_count": null,
            "flex_flow": null,
            "width": null,
            "min_width": null,
            "border": null,
            "align_items": null,
            "bottom": null,
            "_model_module": "@jupyter-widgets/base",
            "top": null,
            "grid_column": null,
            "overflow_y": null,
            "overflow_x": null,
            "grid_auto_flow": null,
            "grid_area": null,
            "grid_template_columns": null,
            "flex": null,
            "_model_name": "LayoutModel",
            "justify_items": null,
            "grid_row": null,
            "max_height": null,
            "align_content": null,
            "visibility": null,
            "align_self": null,
            "height": null,
            "min_height": null,
            "padding": null,
            "grid_auto_rows": null,
            "grid_gap": null,
            "max_width": null,
            "order": null,
            "_view_module_version": "1.2.0",
            "grid_template_areas": null,
            "object_position": null,
            "object_fit": null,
            "grid_auto_columns": null,
            "margin": null,
            "display": null,
            "left": null
          }
        },
        "1b2268d748ab4acbb0aa4e5eb135fe16": {
          "model_module": "@jupyter-widgets/controls",
          "model_name": "IntProgressModel",
          "state": {
            "_view_name": "ProgressView",
            "style": "IPY_MODEL_3e4dcb9b9b5e4737bbd6f6e940af5266",
            "_dom_classes": [],
            "description": "",
            "_model_name": "IntProgressModel",
            "bar_style": "success",
            "max": 1,
            "_view_module": "@jupyter-widgets/controls",
            "_model_module_version": "1.5.0",
            "value": 1,
            "_view_count": null,
            "_view_module_version": "1.5.0",
            "orientation": "horizontal",
            "min": 0,
            "description_tooltip": null,
            "_model_module": "@jupyter-widgets/controls",
            "layout": "IPY_MODEL_e2c88a85e4714a59a1385fbb7e9bf814"
          }
        },
        "a6ca613fd9a94982ae55d4272ad71bf4": {
          "model_module": "@jupyter-widgets/controls",
          "model_name": "HTMLModel",
          "state": {
            "_view_name": "HTMLView",
            "style": "IPY_MODEL_01b3e2c78c63462dbdc004bb39bd8ef2",
            "_dom_classes": [],
            "description": "",
            "_model_name": "HTMLModel",
            "placeholder": "​",
            "_view_module": "@jupyter-widgets/controls",
            "_model_module_version": "1.5.0",
            "value": "8192it [00:00, 16567.88it/s]",
            "_view_count": null,
            "_view_module_version": "1.5.0",
            "description_tooltip": null,
            "_model_module": "@jupyter-widgets/controls",
            "layout": "IPY_MODEL_2913d57115e24fff83f8be1176395b43"
          }
        },
        "3e4dcb9b9b5e4737bbd6f6e940af5266": {
          "model_module": "@jupyter-widgets/controls",
          "model_name": "ProgressStyleModel",
          "state": {
            "_view_name": "StyleView",
            "_model_name": "ProgressStyleModel",
            "description_width": "",
            "_view_module": "@jupyter-widgets/base",
            "_model_module_version": "1.5.0",
            "_view_count": null,
            "_view_module_version": "1.2.0",
            "bar_color": null,
            "_model_module": "@jupyter-widgets/controls"
          }
        },
        "e2c88a85e4714a59a1385fbb7e9bf814": {
          "model_module": "@jupyter-widgets/base",
          "model_name": "LayoutModel",
          "state": {
            "_view_name": "LayoutView",
            "grid_template_rows": null,
            "right": null,
            "justify_content": null,
            "_view_module": "@jupyter-widgets/base",
            "overflow": null,
            "_model_module_version": "1.2.0",
            "_view_count": null,
            "flex_flow": null,
            "width": null,
            "min_width": null,
            "border": null,
            "align_items": null,
            "bottom": null,
            "_model_module": "@jupyter-widgets/base",
            "top": null,
            "grid_column": null,
            "overflow_y": null,
            "overflow_x": null,
            "grid_auto_flow": null,
            "grid_area": null,
            "grid_template_columns": null,
            "flex": null,
            "_model_name": "LayoutModel",
            "justify_items": null,
            "grid_row": null,
            "max_height": null,
            "align_content": null,
            "visibility": null,
            "align_self": null,
            "height": null,
            "min_height": null,
            "padding": null,
            "grid_auto_rows": null,
            "grid_gap": null,
            "max_width": null,
            "order": null,
            "_view_module_version": "1.2.0",
            "grid_template_areas": null,
            "object_position": null,
            "object_fit": null,
            "grid_auto_columns": null,
            "margin": null,
            "display": null,
            "left": null
          }
        },
        "01b3e2c78c63462dbdc004bb39bd8ef2": {
          "model_module": "@jupyter-widgets/controls",
          "model_name": "DescriptionStyleModel",
          "state": {
            "_view_name": "StyleView",
            "_model_name": "DescriptionStyleModel",
            "description_width": "",
            "_view_module": "@jupyter-widgets/base",
            "_model_module_version": "1.5.0",
            "_view_count": null,
            "_view_module_version": "1.2.0",
            "_model_module": "@jupyter-widgets/controls"
          }
        },
        "2913d57115e24fff83f8be1176395b43": {
          "model_module": "@jupyter-widgets/base",
          "model_name": "LayoutModel",
          "state": {
            "_view_name": "LayoutView",
            "grid_template_rows": null,
            "right": null,
            "justify_content": null,
            "_view_module": "@jupyter-widgets/base",
            "overflow": null,
            "_model_module_version": "1.2.0",
            "_view_count": null,
            "flex_flow": null,
            "width": null,
            "min_width": null,
            "border": null,
            "align_items": null,
            "bottom": null,
            "_model_module": "@jupyter-widgets/base",
            "top": null,
            "grid_column": null,
            "overflow_y": null,
            "overflow_x": null,
            "grid_auto_flow": null,
            "grid_area": null,
            "grid_template_columns": null,
            "flex": null,
            "_model_name": "LayoutModel",
            "justify_items": null,
            "grid_row": null,
            "max_height": null,
            "align_content": null,
            "visibility": null,
            "align_self": null,
            "height": null,
            "min_height": null,
            "padding": null,
            "grid_auto_rows": null,
            "grid_gap": null,
            "max_width": null,
            "order": null,
            "_view_module_version": "1.2.0",
            "grid_template_areas": null,
            "object_position": null,
            "object_fit": null,
            "grid_auto_columns": null,
            "margin": null,
            "display": null,
            "left": null
          }
        }
      }
    }
  },
  "cells": [
    {
      "cell_type": "markdown",
      "metadata": {
        "id": "iUbZ9MjlEAlz",
        "colab_type": "text"
      },
      "source": [
        ""
      ]
    },
    {
      "cell_type": "markdown",
      "metadata": {
        "id": "H14AmGzhEB9h",
        "colab_type": "text"
      },
      "source": [
        "# Vertically Partitioned Split Learning\n",
        "\n",
        "For demonstration of this structure, MNIST model has been split vertically according to the integer assigned to the variable 'partition'."
      ]
    },
    {
      "cell_type": "code",
      "metadata": {
        "id": "rmMpPyhmEWJj",
        "colab_type": "code",
        "colab": {}
      },
      "source": [
        "import syft, torch\n",
        "from torch import nn, optim\n",
        "from torchvision import datasets, transforms\n",
        "from torch.utils.data import DataLoader"
      ],
      "execution_count": 0,
      "outputs": []
    },
    {
      "cell_type": "markdown",
      "metadata": {
        "id": "8jcd1auoE1hp",
        "colab_type": "text"
      },
      "source": [
        "Create hook and virtual workers - alice and bob"
      ]
    },
    {
      "cell_type": "code",
      "metadata": {
        "id": "DSdmw9cHE4CR",
        "colab_type": "code",
        "colab": {
          "base_uri": "https://localhost:8080/",
          "height": 35
        },
        "outputId": "5122c114-8f62-4080-f0f8-4b3eb7480806"
      },
      "source": [
        "hook = syft.TorchHook(torch)\n",
        "alice = syft.VirtualWorker(hook, id='alice')\n",
        "bob = syft.VirtualWorker(hook, id='bob')"
      ],
      "execution_count": 7,
      "outputs": [
        {
          "output_type": "stream",
          "text": [
            "WARNING:root:Torch was already hooked... skipping hooking process\n"
          ],
          "name": "stderr"
        }
      ]
    },
    {
      "cell_type": "markdown",
      "metadata": {
        "id": "8sP632wmE7Cx",
        "colab_type": "text"
      },
      "source": [
        "# Creating a class SplitNN\n",
        "\n",
        "Create a class SplitNN containing all the functionalities."
      ]
    },
    {
      "cell_type": "code",
      "metadata": {
        "id": "3IHmJKurE6Q8",
        "colab_type": "code",
        "colab": {}
      },
      "source": [
        "class SplitNN(nn.Module):\n",
        "    def __init__(self, models, optimizers, partition):\n",
        "        super().__init__()\n",
        "        self.models = models\n",
        "        self.optimizers = optimizers\n",
        "        self.output = [None] * (partition)\n",
        "\n",
        "    def zero_grads(self):\n",
        "        for opt in self.optimizers:\n",
        "            opt.zero_grad()\n",
        "\n",
        "    def forward(self, x):                   # Here x is a list having a batch of diffent partitioned datasets. \n",
        "        for i in range(len(x)):\n",
        "            self.output[i] = self.models[i](x[i])\n",
        "\n",
        "        total_out = torch.cat(tuple(self.output[i] for i in range(len(self.output))), dim=1)    # Concatenating the output of various structures in bottom part (alice's location)\n",
        "        if self.output[-1].location == self.models[-1].location:\n",
        "            second_layer_inp = total_out.detach().requires_grad_()\n",
        "        else:\n",
        "            second_layer_inp = total_out.detach().move(self.models[-1].location).requires_grad_()\n",
        "\n",
        "        self.second_layer_inp = second_layer_inp\n",
        "        pred = self.models[-1](second_layer_inp)\n",
        "        return pred\n",
        "\n",
        "    def backward(self):\n",
        "        second_layer_inp = self.second_layer_inp\n",
        "        if self.output[-1].location == second_layer_inp.location:\n",
        "            grad = second_layer_inp.grad.copy()\n",
        "        else:\n",
        "            grad = second_layer_inp.grad.copy().move(self.output[-1].location)\n",
        "\n",
        "        i = 0\n",
        "        while i < partition-1:\n",
        "            self.output[i].backward(grad[:, hidden_sizes[1]*i : hidden_sizes[1]*(i+1)])\n",
        "            i += 1\n",
        "        self.output[i].backward(grad[:, hidden_sizes[1]*i : ])         # This is because it is not necessary that last batch is of exact same size as partitioned.\n",
        "\n",
        "\n",
        "    def step(self):\n",
        "        for opt in self.optimizers:\n",
        "            opt.step()"
      ],
      "execution_count": 0,
      "outputs": []
    },
    {
      "cell_type": "markdown",
      "metadata": {
        "id": "AIFIJmvwFIpq",
        "colab_type": "text"
      },
      "source": [
        "Here function create_models, creates models according to the partitions of the model in the bottom part (alice's model).\n",
        "  \n",
        "First we iterate 1 less than the partition size because of their same model structure. Since we divided the data in batches, last part may or may not have the size of the batch. So for this we calculate the remaining size of the dataset, and accordingly create the model.\n",
        "\n",
        "Then a model on the bob's machine is created having labels."
      ]
    },
    {
      "cell_type": "code",
      "metadata": {
        "id": "whMro6Z1FMLj",
        "colab_type": "code",
        "colab": {}
      },
      "source": [
        "def create_models(partition, input_size, hidden_sizes, output_size):\n",
        "    models = list()\n",
        "    for _ in range(1, partition):\n",
        "        models.append(nn.Sequential(nn.Linear(int(input_size/partition), hidden_sizes[0]),\n",
        "                                    nn.ReLU(),\n",
        "                                    nn.Linear(hidden_sizes[0], hidden_sizes[1]),\n",
        "                                    nn.ReLU()))\n",
        "    rem = input_size - int(input_size/partition * (partition-1))\n",
        "    models.append(nn.Sequential(nn.Linear(rem, hidden_sizes[0]),\n",
        "                                nn.ReLU(),\n",
        "                                nn.Linear(hidden_sizes[0], hidden_sizes[1]),\n",
        "                                nn.ReLU()))\n",
        "\n",
        "    models.append(nn.Sequential(nn.Linear(hidden_sizes[1]*partition, hidden_sizes[2]),\n",
        "                                nn.ReLU(),\n",
        "                                nn.Linear(hidden_sizes[2], output_size),\n",
        "                                nn.LogSoftmax(dim=1)))\n",
        "    return models"
      ],
      "execution_count": 0,
      "outputs": []
    },
    {
      "cell_type": "markdown",
      "metadata": {
        "id": "cWJfvE3GFOqY",
        "colab_type": "text"
      },
      "source": [
        "Assign an integer to the partition variable indicating number of partitions available."
      ]
    },
    {
      "cell_type": "code",
      "metadata": {
        "id": "R9mquoxyFQ8S",
        "colab_type": "code",
        "colab": {}
      },
      "source": [
        "partition = 2"
      ],
      "execution_count": 0,
      "outputs": []
    },
    {
      "cell_type": "markdown",
      "metadata": {
        "id": "tJdbcXdsFURy",
        "colab_type": "text"
      },
      "source": [
        "Load the dataset."
      ]
    },
    {
      "cell_type": "code",
      "metadata": {
        "id": "ov2HOL6VFXxg",
        "colab_type": "code",
        "colab": {
          "base_uri": "https://localhost:8080/",
          "height": 408,
          "referenced_widgets": [
            "319b0ac3bebe49318efb053165f78ecf",
            "a105580f4f57421cb0b6aa42e986f6dd",
            "d19328456aa74aedac01ce06aa186f87",
            "a9448eb3995c4e0f89d4a5efeffb3a24",
            "67775ea1ae8d4ab3bcba118923ad482c",
            "1d0db9c7e195468b9e28ba00f101a692",
            "669ad6e75fb4403cab9b08b2207d861e",
            "3cb5ba1517ca4ba694a2f76df2a5f535",
            "b711ae2f28c2462facff84473bb24af0",
            "1433d634c0754a50a9f6e2cb32a6701e",
            "2323eaa039144d8781bea94460330509",
            "11a5cead27fe419b8886855d0d8eda51",
            "44a266650de6406e8bc37b5243095c9d",
            "5c7f519c88504f5da33b1defe3bd0f08",
            "25d25b4e00fc4543953044d9236c8b33",
            "bf1810ae5ffc4eb0837ca332e86a1767",
            "5e0ebc85d5e348388caf49e6386cf6d8",
            "454e60e004c24d048f17705e45f156e8",
            "5d3855bcdc81420cba34ccf35eac3803",
            "6360d2e4ad9047fe938a39787f60bf35",
            "75fe68ffaf5a4379a1ab6a2cd5b58537",
            "340f6561fc1d426899fbf316aaffdf2a",
            "b4e35532e1494a7aa49b0729937e935a",
            "b81e64d59a6c482a9841ed4ed1135327",
            "e6d42b67932046b395536356d726772f",
            "1dc9db16e89d42578cc9eff6a234a98d",
            "1b2268d748ab4acbb0aa4e5eb135fe16",
            "a6ca613fd9a94982ae55d4272ad71bf4",
            "3e4dcb9b9b5e4737bbd6f6e940af5266",
            "e2c88a85e4714a59a1385fbb7e9bf814",
            "01b3e2c78c63462dbdc004bb39bd8ef2",
            "2913d57115e24fff83f8be1176395b43"
          ]
        },
        "outputId": "303f549f-992c-4eb7-ecda-46f80967ac3e"
      },
      "source": [
        "transform = transforms.Compose([transforms.ToTensor(),\n",
        "                                transforms.Normalize((0.5,), (0.5,))])\n",
        "\n",
        "trainset = datasets.MNIST('/content/sample_data/mnist', download=True, train=True, transform=transform)\n",
        "trainloader = DataLoader(trainset, batch_size=64, shuffle=True)"
      ],
      "execution_count": 11,
      "outputs": [
        {
          "output_type": "stream",
          "text": [
            "Downloading http://yann.lecun.com/exdb/mnist/train-images-idx3-ubyte.gz to /content/sample_data/mnist/MNIST/raw/train-images-idx3-ubyte.gz\n"
          ],
          "name": "stdout"
        },
        {
          "output_type": "display_data",
          "data": {
            "application/vnd.jupyter.widget-view+json": {
              "model_id": "319b0ac3bebe49318efb053165f78ecf",
              "version_minor": 0,
              "version_major": 2
            },
            "text/plain": [
              "HBox(children=(IntProgress(value=1, bar_style='info', max=1), HTML(value='')))"
            ]
          },
          "metadata": {
            "tags": []
          }
        },
        {
          "output_type": "stream",
          "text": [
            "\n",
            "Extracting /content/sample_data/mnist/MNIST/raw/train-images-idx3-ubyte.gz to /content/sample_data/mnist/MNIST/raw\n",
            "Downloading http://yann.lecun.com/exdb/mnist/train-labels-idx1-ubyte.gz to /content/sample_data/mnist/MNIST/raw/train-labels-idx1-ubyte.gz\n"
          ],
          "name": "stdout"
        },
        {
          "output_type": "display_data",
          "data": {
            "application/vnd.jupyter.widget-view+json": {
              "model_id": "b711ae2f28c2462facff84473bb24af0",
              "version_minor": 0,
              "version_major": 2
            },
            "text/plain": [
              "HBox(children=(IntProgress(value=1, bar_style='info', max=1), HTML(value='')))"
            ]
          },
          "metadata": {
            "tags": []
          }
        },
        {
          "output_type": "stream",
          "text": [
            "\n",
            "Extracting /content/sample_data/mnist/MNIST/raw/train-labels-idx1-ubyte.gz to /content/sample_data/mnist/MNIST/raw\n",
            "Downloading http://yann.lecun.com/exdb/mnist/t10k-images-idx3-ubyte.gz to /content/sample_data/mnist/MNIST/raw/t10k-images-idx3-ubyte.gz\n"
          ],
          "name": "stdout"
        },
        {
          "output_type": "display_data",
          "data": {
            "application/vnd.jupyter.widget-view+json": {
              "model_id": "5e0ebc85d5e348388caf49e6386cf6d8",
              "version_minor": 0,
              "version_major": 2
            },
            "text/plain": [
              "HBox(children=(IntProgress(value=1, bar_style='info', max=1), HTML(value='')))"
            ]
          },
          "metadata": {
            "tags": []
          }
        },
        {
          "output_type": "stream",
          "text": [
            "\n",
            "Extracting /content/sample_data/mnist/MNIST/raw/t10k-images-idx3-ubyte.gz to /content/sample_data/mnist/MNIST/raw\n",
            "Downloading http://yann.lecun.com/exdb/mnist/t10k-labels-idx1-ubyte.gz to /content/sample_data/mnist/MNIST/raw/t10k-labels-idx1-ubyte.gz\n"
          ],
          "name": "stdout"
        },
        {
          "output_type": "display_data",
          "data": {
            "application/vnd.jupyter.widget-view+json": {
              "model_id": "e6d42b67932046b395536356d726772f",
              "version_minor": 0,
              "version_major": 2
            },
            "text/plain": [
              "HBox(children=(IntProgress(value=1, bar_style='info', max=1), HTML(value='')))"
            ]
          },
          "metadata": {
            "tags": []
          }
        },
        {
          "output_type": "stream",
          "text": [
            "\n",
            "Extracting /content/sample_data/mnist/MNIST/raw/t10k-labels-idx1-ubyte.gz to /content/sample_data/mnist/MNIST/raw\n",
            "Processing...\n",
            "Done!\n"
          ],
          "name": "stdout"
        }
      ]
    },
    {
      "cell_type": "markdown",
      "metadata": {
        "id": "pgT5xDUtFksM",
        "colab_type": "text"
      },
      "source": [
        "Initialize the sizes."
      ]
    },
    {
      "cell_type": "code",
      "metadata": {
        "id": "QfAldJzjFq6Z",
        "colab_type": "code",
        "colab": {}
      },
      "source": [
        "input_size = 784\n",
        "hidden_sizes = [128, 256, 512]\n",
        "output_size = 10"
      ],
      "execution_count": 0,
      "outputs": []
    },
    {
      "cell_type": "markdown",
      "metadata": {
        "id": "ZoBrA77uFr1A",
        "colab_type": "text"
      },
      "source": [
        "Partition the data as needed to imitate that we have different datasets having different features for our image."
      ]
    },
    {
      "cell_type": "code",
      "metadata": {
        "id": "fQXY2wEZF9Tq",
        "colab_type": "code",
        "colab": {}
      },
      "source": [
        "image_set1 = list()\n",
        "image_set2 = list()\n",
        "labels = list()\n",
        "distr = int(input_size/partition)              # Segment the datalength in number of partitions\n",
        "for image, label in trainloader:\n",
        "    image = image.view(image.shape[0], -1)\n",
        "    image_set1.append(image[:, 0:distr])\n",
        "    image_set2.append(image[:, distr:])\n",
        "    labels.append(label)"
      ],
      "execution_count": 0,
      "outputs": []
    },
    {
      "cell_type": "markdown",
      "metadata": {
        "id": "syokshGTGIfg",
        "colab_type": "text"
      },
      "source": [
        "Here we assign output from create_models to a variable models.\n",
        "\n",
        "Now, according to these models, we are creating different optimizers for different model."
      ]
    },
    {
      "cell_type": "code",
      "metadata": {
        "id": "TdQWjSw_GKxq",
        "colab_type": "code",
        "colab": {}
      },
      "source": [
        "models = create_models(partition, input_size, hidden_sizes, output_size)\n",
        "\n",
        "optimizers = [optim.SGD(model.parameters(), lr=0.01) for model in models]"
      ],
      "execution_count": 0,
      "outputs": []
    },
    {
      "cell_type": "markdown",
      "metadata": {
        "id": "8wsT-GJbGNp7",
        "colab_type": "text"
      },
      "source": [
        "Now append the model locations. All the partitioned models are situated in alice's machine and the model with labels in bob's machine.\n",
        "\n",
        "After this, send each model to its location."
      ]
    },
    {
      "cell_type": "code",
      "metadata": {
        "id": "wzivQFinGRHK",
        "colab_type": "code",
        "colab": {}
      },
      "source": [
        "model_locations = list()\n",
        "for i in range(partition):\n",
        "    model_locations.append(alice)\n",
        "model_locations.append(bob)\n",
        "\n",
        "for model, location in zip(models, model_locations):\n",
        "    model.send(location)"
      ],
      "execution_count": 0,
      "outputs": []
    },
    {
      "cell_type": "markdown",
      "metadata": {
        "id": "GVT4pzB8GWVL",
        "colab_type": "text"
      },
      "source": [
        "Create a object for class SplitNN."
      ]
    },
    {
      "cell_type": "code",
      "metadata": {
        "id": "Qxbt9VbjGYQ7",
        "colab_type": "code",
        "colab": {}
      },
      "source": [
        "splitNN = SplitNN(models, optimizers, partition)"
      ],
      "execution_count": 0,
      "outputs": []
    },
    {
      "cell_type": "markdown",
      "metadata": {
        "id": "MMl88cGrGaGo",
        "colab_type": "text"
      },
      "source": [
        "Define a train function."
      ]
    },
    {
      "cell_type": "code",
      "metadata": {
        "id": "Rt70k3upGbvt",
        "colab_type": "code",
        "colab": {}
      },
      "source": [
        "def train(x, target, splitnn):\n",
        "    splitnn.zero_grads()\n",
        "    pred = splitnn.forward(x)\n",
        "    criterion = nn.NLLLoss()\n",
        "    loss = criterion(pred, target)\n",
        "    loss.backward()\n",
        "    splitnn.backward()\n",
        "    splitnn.step()\n",
        "    return loss"
      ],
      "execution_count": 0,
      "outputs": []
    },
    {
      "cell_type": "markdown",
      "metadata": {
        "id": "BOYMedbVGddf",
        "colab_type": "text"
      },
      "source": [
        "Since we have 2 partitions, we will run the lists in parallel which is made by splitting the dataset from trainloader. Send them to their respective machines i.e. images in alice's machine and labels in bob's machine."
      ]
    },
    {
      "cell_type": "code",
      "metadata": {
        "id": "isJctZN_Gfi-",
        "colab_type": "code",
        "colab": {
          "base_uri": "https://localhost:8080/",
          "height": 364
        },
        "outputId": "d92db978-7eb2-4166-bd79-50db8509cfbf"
      },
      "source": [
        "epochs = 20\n",
        "\n",
        "for i in range(epochs):\n",
        "    total_loss = 0\n",
        "    for x1, x2, y in zip(image_set1, image_set2, labels):\n",
        "        x1, x2 = x1.send(models[0].location), x2.send(models[0].location)\n",
        "        y = y.send(models[-1].location)\n",
        "        loss = train([x1, x2], y, splitNN)\n",
        "        total_loss += loss.get()\n",
        "\n",
        "    else:\n",
        "        print(f\"Epoch: {i+1}... Training Loss: {total_loss/len(image_set1)}\")"
      ],
      "execution_count": 18,
      "outputs": [
        {
          "output_type": "stream",
          "text": [
            "Epoch: 1... Training Loss: 1.4687851667404175\n",
            "Epoch: 2... Training Loss: 0.446729838848114\n",
            "Epoch: 3... Training Loss: 0.3456943929195404\n",
            "Epoch: 4... Training Loss: 0.29423439502716064\n",
            "Epoch: 5... Training Loss: 0.2568202316761017\n",
            "Epoch: 6... Training Loss: 0.22730275988578796\n",
            "Epoch: 7... Training Loss: 0.20333388447761536\n",
            "Epoch: 8... Training Loss: 0.18340450525283813\n",
            "Epoch: 9... Training Loss: 0.16675199568271637\n",
            "Epoch: 10... Training Loss: 0.15272948145866394\n",
            "Epoch: 11... Training Loss: 0.14081399142742157\n",
            "Epoch: 12... Training Loss: 0.13051852583885193\n",
            "Epoch: 13... Training Loss: 0.12153288722038269\n",
            "Epoch: 14... Training Loss: 0.11360220611095428\n",
            "Epoch: 15... Training Loss: 0.10655181854963303\n",
            "Epoch: 16... Training Loss: 0.10024593770503998\n",
            "Epoch: 17... Training Loss: 0.09461765736341476\n",
            "Epoch: 18... Training Loss: 0.0895589143037796\n",
            "Epoch: 19... Training Loss: 0.08488532155752182\n",
            "Epoch: 20... Training Loss: 0.0806727185845375\n"
          ],
          "name": "stdout"
        }
      ]
    },
    {
      "cell_type": "code",
      "metadata": {
        "id": "45I2kyXtG3kB",
        "colab_type": "code",
        "colab": {}
      },
      "source": [
        ""
      ],
      "execution_count": 0,
      "outputs": []
    }
  ]
}
