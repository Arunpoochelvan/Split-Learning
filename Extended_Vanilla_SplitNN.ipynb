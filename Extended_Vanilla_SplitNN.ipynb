{
  "nbformat": 4,
  "nbformat_minor": 0,
  "metadata": {
    "colab": {
      "name": "Extended_Vanilla_SplitNN.ipynb",
      "provenance": [],
      "authorship_tag": "ABX9TyOXSr//iGCPZly6j66N9OIg",
      "include_colab_link": true
    },
    "kernelspec": {
      "name": "python3",
      "display_name": "Python 3"
    },
    "accelerator": "GPU"
  },
  "cells": [
    {
      "cell_type": "markdown",
      "metadata": {
        "id": "view-in-github",
        "colab_type": "text"
      },
      "source": [
        "<a href=\"https://colab.research.google.com/github/nin-ed/Split-Learning/blob/master/Extended_Vanilla_SplitNN.ipynb\" target=\"_parent\"><img src=\"https://colab.research.google.com/assets/colab-badge.svg\" alt=\"Open In Colab\"/></a>"
      ]
    },
    {
      "cell_type": "markdown",
      "metadata": {
        "id": "t0NdEpm45cSa",
        "colab_type": "text"
      },
      "source": [
        "# Tutorial - Extended Vanilla Split Learning\n",
        "\n",
        "Extended Vanilla Split Learning is basically a combination of multi-layer splitnn and vertically partitioned data. Here all our partitioned input data goes to one location and labels to another location. But instead of just training our model in two locations we can use few trusted locations having more complex model through which we can train our model.\n",
        "\n",
        "![alt text](data:image/jpeg;base64,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)\n",
        "\n"
      ]
    },
    {
      "cell_type": "code",
      "metadata": {
        "id": "HtlaO14r6HhH",
        "colab_type": "code",
        "colab": {}
      },
      "source": [
        "\"\"\"import necessary modules\"\"\"\n",
        "\n",
        "import syft, torch\n",
        "from torch import nn, optim\n",
        "from torchvision import datasets, transforms\n",
        "from torch.utils.data import DataLoader"
      ],
      "execution_count": 0,
      "outputs": []
    },
    {
      "cell_type": "code",
      "metadata": {
        "id": "cjQF7PYTEcdm",
        "colab_type": "code",
        "colab": {}
      },
      "source": [
        "\"\"\"Create hook and virtual workers.\"\"\"\n",
        "hook = syft.TorchHook(torch)\n",
        "\n",
        "\"\"\"Bob will hold the first cut layer and the input data.\"\"\"\n",
        "bob = syft.VirtualWorker(hook, id='bob')\n",
        "\n",
        "\"\"\"Alice will hold the last cut layer and the labels.\"\"\"\n",
        "alice = syft.VirtualWorker(hook, id='alice')\n",
        "\n",
        "\"\"\"Secure Worker will hold the middle cut layer whom we can trust and train the \n",
        "   model through it.\"\"\"\n",
        "secure_worker = syft.VirtualWorker(hook, id='secure_worker')"
      ],
      "execution_count": 0,
      "outputs": []
    },
    {
      "cell_type": "markdown",
      "metadata": {
        "id": "jnMh0MDJEmcq",
        "colab_type": "text"
      },
      "source": [
        "### Defining a function create_models which returns a list of models for training.\n",
        "\n"
      ]
    },
    {
      "cell_type": "code",
      "metadata": {
        "id": "93LQg8b8E43q",
        "colab_type": "code",
        "colab": {}
      },
      "source": [
        "def create_models(partition, input_size, hidden_sizes, output_size):\n",
        "    models = list()\n",
        "\n",
        "    \"\"\"Create models for each partition in bob's location\"\"\"\n",
        "    for i in range(partition-1):\n",
        "        models.append(nn.Sequential(nn.Linear(int(input_size/partition), hidden_sizes[0]),\n",
        "                                    nn.ReLU()))\n",
        "\n",
        "    \"\"\"Compute the last remaining features as features may or may not be divided equally.\"\"\"\n",
        "    rem = input_size - int(input_size/partition * (partition-1))\n",
        "    models.append(nn.Sequential(nn.Linear(rem, hidden_sizes[0]),\n",
        "                                nn.ReLU()))\n",
        "\n",
        "    \"\"\"Create a model for secure_worker\"\"\"\n",
        "    \"\"\"Since all partition models will send information having equal second dimension which is hidden size. So we need\n",
        "       to multiply input size with partition to match the concatenated layer dimensions.\"\"\"\n",
        "    models.append(nn.Sequential(nn.Linear(hidden_sizes[0]*partition, hidden_sizes[1]),\n",
        "                                nn.ReLU()))\n",
        "\n",
        "    \"\"\"Create a model for alice\"\"\"\n",
        "    models.append(nn.Sequential(nn.Linear(hidden_sizes[1], output_size),\n",
        "                                nn.LogSoftmax(dim=1)))\n",
        "\n",
        "    return models"
      ],
      "execution_count": 0,
      "outputs": []
    },
    {
      "cell_type": "markdown",
      "metadata": {
        "id": "xlk33b7FFGvO",
        "colab_type": "text"
      },
      "source": [
        "### Creating SplitNN class for adding split learning functionality to our model."
      ]
    },
    {
      "cell_type": "code",
      "metadata": {
        "id": "_ErOyWeZFYnt",
        "colab_type": "code",
        "colab": {}
      },
      "source": [
        "class SplitNN:\n",
        "    def __init__(self, models, optimizers, partition, hidden_sizes):\n",
        "        super().__init__()\n",
        "        self.models = models\n",
        "        self.optimizers = optimizers\n",
        "        self.partition = partition\n",
        "        self.hidden = hidden_sizes\n",
        "        self.outputs = [None] * partition\n",
        "\n",
        "    def zero_grads(self):\n",
        "        for opt in self.optimizers:\n",
        "            opt.zero_grad()\n",
        "\n",
        "    def forward(self, x):\n",
        "        for i in range(self.partition):\n",
        "            self.outputs[i] = self.models[i](x[i])\n",
        "\n",
        "        \"\"\"Concatenate outputs of each partitioned model\"\"\"\n",
        "        concat_out = torch.cat(tuple(self.outputs[i] for i in range(self.partition)), dim=1)\n",
        "\n",
        "        \"\"\"Transfer this concatenated layer to secure_worker's location\"\"\"\n",
        "        if concat_out.location == self.models[-2].location:\n",
        "            secure_inp = concat_out.detach().requires_grad_()\n",
        "        else:\n",
        "            secure_inp = concat_out.detach().move(self.models[-2].location).requires_grad_()\n",
        "\n",
        "        \"\"\"Get the output from secure worker's model\"\"\"\n",
        "        secure_out = self.models[-2](secure_inp)\n",
        "\n",
        "        \"\"\"Transfer this output to alice's location\"\"\"\n",
        "        if secure_out.location == self.models[-1].location:\n",
        "            alice_inp = secure_out.detach().requires_grad_()\n",
        "        else:\n",
        "            alice_inp = secure_out.detach().move(self.models[-1].location).requires_grad_()\n",
        "\n",
        "        \"\"\"Get the output from alice's model and return it\"\"\"\n",
        "        alice_out = self.models[-1](alice_inp)\n",
        "\n",
        "        self.concat_out = concat_out\n",
        "        self.secure_inp = secure_inp\n",
        "        self.secure_out = secure_out\n",
        "        self.alice_inp = alice_inp\n",
        "        self.alice_out = alice_out\n",
        "        return alice_out\n",
        "\n",
        "    def backward(self):\n",
        "        \"\"\"Get the gradients from alice's location and pass it to secure_worker's location\"\"\"\n",
        "        if self.secure_out.location == self.alice_inp.location:\n",
        "            grad1 = self.alice_inp.grad.copy()\n",
        "        else:\n",
        "            grad1 = self.alice_inp.grad.copy().move(self.secure_out.location)\n",
        "\n",
        "        \"\"\"Backpropagate and find the gradients of secure_worker's model\"\"\"\n",
        "        self.secure_out.backward(grad1)\n",
        "\n",
        "        \"\"\"Get the gradients from secure_worker's location, and divide and pass it to bob's partitioned models\"\"\"\n",
        "        if self.concat_out.location == self.secure_inp.location:\n",
        "            grad2 = self.secure_inp.grad.copy()\n",
        "        else:\n",
        "            grad2 = self.secure_inp.grad.copy().move(self.models[0].location)\n",
        "\n",
        "        i = 0\n",
        "        while i < self.partition - 1:\n",
        "            self.outputs[i].backward(grad2[:, self.hidden[0] * i: self.hidden[0] * (i + 1)], retain_graph=True)\n",
        "            i += 1\n",
        "        self.outputs[i].backward(grad2[:, self.hidden[0] * i:], retain_graph=True)\n",
        "\n",
        "\n",
        "    def step(self):\n",
        "        for opt in self.optimizers:\n",
        "            opt.step()"
      ],
      "execution_count": 0,
      "outputs": []
    },
    {
      "cell_type": "markdown",
      "metadata": {
        "id": "mlvAeCPtFinH",
        "colab_type": "text"
      },
      "source": [
        "### Defining a function to train our model"
      ]
    },
    {
      "cell_type": "code",
      "metadata": {
        "id": "FznG7XzsFruh",
        "colab_type": "code",
        "colab": {}
      },
      "source": [
        "def training(models, splitNN, data, target, epochs):\n",
        "    def train(data, target, splitnn):\n",
        "        splitnn.zero_grads()\n",
        "        pred = splitnn.forward(data)\n",
        "        criterion = nn.NLLLoss()\n",
        "        loss = criterion(pred, target)\n",
        "        loss.backward()\n",
        "        splitnn.backward()\n",
        "        splitnn.step()\n",
        "        return loss\n",
        "\n",
        "    avg_loss = 0.\n",
        "    for e in range(epochs):\n",
        "        total_loss = 0.\n",
        "        data1, data2, data3 = data\n",
        "        for x1, x2, x3, y in zip(data1, data2, data3, target):\n",
        "            x1, x2, x3 = x1.send(models[0].location), x2.send(models[0].location), x3.send(models[0].location)\n",
        "            y = y.send(models[-1].location)\n",
        "            loss = train([x1, x2, x3], y, splitNN)\n",
        "            total_loss += loss.get()\n",
        "\n",
        "        avg_loss += total_loss/len(data[0])\n",
        "        print(f\"Epoch: {e+1}... Training Loss: {total_loss/len(data[0])}\")\n",
        "\n",
        "    print(f\"Average Loss: {avg_loss/epochs}\")"
      ],
      "execution_count": 0,
      "outputs": []
    },
    {
      "cell_type": "markdown",
      "metadata": {
        "id": "SZSSA6DDFtNo",
        "colab_type": "text"
      },
      "source": [
        "Now lets define a main function."
      ]
    },
    {
      "cell_type": "code",
      "metadata": {
        "id": "jmSJX3uwFxfo",
        "colab_type": "code",
        "colab": {}
      },
      "source": [
        "def main():\n",
        "    \"\"\"Assign the number of partitions in vertically partitioned data.\"\"\"\n",
        "    partition = 3\n",
        "\n",
        "    \"\"\"Define a transform\"\"\"\n",
        "    transform = transforms.Compose([transforms.ToTensor(),\n",
        "                                    transforms.Normalize((0.5,), (0.5,))])\n",
        "\n",
        "    \"\"\"Import dataset and load it.\"\"\"\n",
        "    trainset = datasets.MNIST('mnist', download=False, train=True, transform=transform)\n",
        "    trainloader = DataLoader(trainset, batch_size=64, shuffle=True)\n",
        "\n",
        "    \"\"\"Lets define sizes.\"\"\"\n",
        "    input_size = 784\n",
        "    hidden_sizes = [128, 256, 512]\n",
        "    output_size = 10\n",
        "\n",
        "    \"\"\"Lets create 3 lists that would act as our vertically paritioned datasets and one list for labels\"\"\"\n",
        "    image_set1, image_set2, image_set3 = list(), list(), list()\n",
        "    labels = list()\n",
        "\n",
        "    \"\"\"Assign how many data should contain in a single dataset. Since mnist dataset have a shape of [28 x 28 x 1] and we\n",
        "       sliced the dataset in 64 batches, after reshaping it would be [64 x 784]. Now we have to divide these 784 \n",
        "       features into three datasets\"\"\"\n",
        "    distr = int(input_size/partition)\n",
        "\n",
        "    for image, label in trainloader:\n",
        "        image = image.view(image.shape[0], -1)\n",
        "        image_set1.append(image[:, 0:distr])\n",
        "        image_set2.append(image[:, distr:distr*2])\n",
        "        image_set3.append(image[:, distr*2:])\n",
        "        labels.append(label)\n",
        "\n",
        "    models = create_models(partition, input_size, hidden_sizes, output_size)\n",
        "\n",
        "    optimizers = [optim.SGD(model.parameters(), lr=0.01) for model in models]\n",
        "\n",
        "    \"\"\"Build a list locations where each model has to be sent.\"\"\"\n",
        "    model_locations = list()\n",
        "    for _ in range(partition):\n",
        "        model_locations.append(bob)\n",
        "    model_locations.append(secure_worker)\n",
        "    for _ in range(partition):\n",
        "        model_locations.append(alice)\n",
        "\n",
        "    \"\"\"Send each model to its specific location.\"\"\"\n",
        "    for model, location in zip(models, model_locations):\n",
        "        model.send(location)\n",
        "\n",
        "    \"\"\"Create an object of SplitNN class\"\"\"\n",
        "    splitNN = SplitNN(models, optimizers, partition, hidden_sizes)\n",
        "\n",
        "    \"\"\"Now to train our model, call training function.\"\"\"\n",
        "    epochs = 20\n",
        "    training(models, splitNN, [image_set1, image_set2, image_set3], labels, epochs)"
      ],
      "execution_count": 0,
      "outputs": []
    },
    {
      "cell_type": "code",
      "metadata": {
        "id": "g4g8zCo7F1DJ",
        "colab_type": "code",
        "colab": {}
      },
      "source": [
        "if __name__ == '__main__':\n",
        "    main()"
      ],
      "execution_count": 0,
      "outputs": []
    }
  ]
}
